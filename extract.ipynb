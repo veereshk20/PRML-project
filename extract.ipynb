{
 "cells": [
  {
   "cell_type": "code",
   "execution_count": 15,
   "id": "7f39d7dd-3841-4196-b8de-bb7d9ac566d2",
   "metadata": {},
   "outputs": [],
   "source": [
    "import cv2\n",
    "import dlib\n",
    "import numpy as np\n",
    "import imutils"
   ]
  },
  {
   "cell_type": "code",
   "execution_count": 13,
   "id": "c500adc5-7c70-4f90-bb29-896b42cc338e",
   "metadata": {},
   "outputs": [
    {
     "name": "stdout",
     "output_type": "stream",
     "text": [
      "Collecting imutils\n",
      "  Using cached imutils-0.5.4-py3-none-any.whl\n",
      "Installing collected packages: imutils\n",
      "Successfully installed imutils-0.5.4\n"
     ]
    }
   ],
   "source": [
    "!pip install imutils"
   ]
  },
  {
   "cell_type": "code",
   "execution_count": 17,
   "id": "db1478eb-b84e-42cd-b7d0-fa0003ce2776",
   "metadata": {},
   "outputs": [
    {
     "name": "stdout",
     "output_type": "stream",
     "text": [
      "Computed Facial Features:\n",
      "CJWR: 1.081183738441964\n",
      "WHR: 1.0675000749332786\n",
      "PAR: 0.018273272652999176\n",
      "ES: 411.32839005057497\n",
      "FW/FH: 0.6458625098059632\n",
      "MEH: 32.65681192401898\n"
     ]
    }
   ],
   "source": [
    "# Load the pre-trained facial landmarks model\n",
    "landmark_model_path = \"shape_predictor_68_face_landmarks.dat\"\n",
    "detector = dlib.get_frontal_face_detector()\n",
    "predictor = dlib.shape_predictor(landmark_model_path)\n",
    "\n",
    "def extract_landmarks(image_path):\n",
    "    # Read the image\n",
    "    image = cv2.imread(image_path)\n",
    "    image = imutils.resize(image, width=600)\n",
    "\n",
    "    if image is None:\n",
    "        print(\"Hello\")\n",
    "\n",
    "    gray = cv2.cvtColor(image, cv2.COLOR_BGR2GRAY)\n",
    "\n",
    "    # Detect faces in the image\n",
    "    faces = detector(gray)\n",
    "    if len(faces) == 0:\n",
    "        print(\"No faces detected!\")\n",
    "        return None\n",
    "\n",
    "    # Assume the first face detected is the target face\n",
    "    landmarks = predictor(gray, faces[0])\n",
    "\n",
    "    # Extract (x, y) coordinates of the landmarks\n",
    "    points = []\n",
    "    for n in range(68):\n",
    "        x = landmarks.part(n).x\n",
    "        y = landmarks.part(n).y\n",
    "        points.append((x, y))\n",
    "\n",
    "    return points\n",
    "\n",
    "def compute_features(front_landmarks, side_landmarks=None):\n",
    "    # Cheek-to-Jaw Width Ratio (CJWR)\n",
    "    jaw_width = np.linalg.norm(np.array(front_landmarks[3]) - np.array(front_landmarks[13]))\n",
    "    cheek_width = np.linalg.norm(np.array(front_landmarks[1]) - np.array(front_landmarks[15]))\n",
    "    cjwr = cheek_width / jaw_width\n",
    "\n",
    "    # Width to Upper Facial Height Ratio (WHR)\n",
    "    width = np.linalg.norm(np.array(front_landmarks[1]) - np.array(front_landmarks[15]))\n",
    "    upper_height = np.linalg.norm(np.array(front_landmarks[27]) - np.array(front_landmarks[8]))\n",
    "    whr = width / upper_height\n",
    "\n",
    "    # Perimeter to Area Ratio (PAR)\n",
    "    contour_points = np.array(front_landmarks[:17])  # Jawline points\n",
    "    perimeter = cv2.arcLength(contour_points, True)\n",
    "    area = cv2.contourArea(contour_points)\n",
    "    par = perimeter / area if area != 0 else None\n",
    "\n",
    "    # Eye Size (ES)\n",
    "    left_eye_width = np.linalg.norm(np.array(front_landmarks[36]) - np.array(front_landmarks[39]))\n",
    "    left_eye_height = np.linalg.norm(np.array(front_landmarks[37]) - np.array(front_landmarks[41]))\n",
    "    right_eye_width = np.linalg.norm(np.array(front_landmarks[42]) - np.array(front_landmarks[45]))\n",
    "    right_eye_height = np.linalg.norm(np.array(front_landmarks[43]) - np.array(front_landmarks[47]))\n",
    "    es = ((left_eye_width * left_eye_height) + (right_eye_width * right_eye_height)) / 2\n",
    "\n",
    "    # Lower Face to Face Height Ratio (FW/FH)\n",
    "    lower_face_height = np.linalg.norm(np.array(front_landmarks[33]) - np.array(front_landmarks[8]))\n",
    "    face_height = np.linalg.norm(np.array(front_landmarks[27]) - np.array(front_landmarks[8]))\n",
    "    fw_fh = lower_face_height / face_height\n",
    "\n",
    "    # Mean Eyebrow Height (MEH)\n",
    "    left_eyebrow_mean_height = np.mean([np.linalg.norm(np.array(front_landmarks[19]) - np.array(front_landmarks[37])),\n",
    "                                        np.linalg.norm(np.array(front_landmarks[20]) - np.array(front_landmarks[38]))])\n",
    "    right_eyebrow_mean_height = np.mean([np.linalg.norm(np.array(front_landmarks[23]) - np.array(front_landmarks[43])),\n",
    "                                         np.linalg.norm(np.array(front_landmarks[24]) - np.array(front_landmarks[44]))])\n",
    "    meh = (left_eyebrow_mean_height + right_eyebrow_mean_height) / 2\n",
    "\n",
    "    return {\n",
    "        \"CJWR\": cjwr,\n",
    "        \"WHR\": whr,\n",
    "        \"PAR\": par,\n",
    "        \"ES\": es,\n",
    "        \"FW/FH\": fw_fh,\n",
    "        \"MEH\": meh\n",
    "    }\n",
    "\n",
    "# Example usage\n",
    "front_photo_path = \"A00147_front.jpg\"\n",
    "side_photo_path = \"A00147_side.jpg\"  # Optional for advanced features\n",
    "\n",
    "front_landmarks = extract_landmarks(front_photo_path)\n",
    "if front_landmarks:\n",
    "    features = compute_features(front_landmarks)\n",
    "    print(\"Computed Facial Features:\")\n",
    "    for key, value in features.items():\n",
    "        print(f\"{key}: {value}\")"
   ]
  },
  {
   "cell_type": "code",
   "execution_count": null,
   "id": "9787ad79-1e3c-4d3e-a6d3-3de48317386b",
   "metadata": {},
   "outputs": [],
   "source": []
  }
 ],
 "metadata": {
  "kernelspec": {
   "display_name": "Python 3 (ipykernel)",
   "language": "python",
   "name": "python3"
  },
  "language_info": {
   "codemirror_mode": {
    "name": "ipython",
    "version": 3
   },
   "file_extension": ".py",
   "mimetype": "text/x-python",
   "name": "python",
   "nbconvert_exporter": "python",
   "pygments_lexer": "ipython3",
   "version": "3.12.4"
  }
 },
 "nbformat": 4,
 "nbformat_minor": 5
}
